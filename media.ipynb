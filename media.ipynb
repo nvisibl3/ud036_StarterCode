{
 "cells": [
  {
   "cell_type": "code",
   "execution_count": 1,
   "metadata": {
    "collapsed": false
   },
   "outputs": [],
   "source": [
    "import webbrowser\n",
    "import fresh_tomatoes"
   ]
  },
  {
   "cell_type": "code",
   "execution_count": 2,
   "metadata": {
    "collapsed": true
   },
   "outputs": [],
   "source": [
    "class Video():\n",
    "    def __init__(self, title, duration):\n",
    "        self.title = title\n",
    "        self.duration = duration"
   ]
  },
  {
   "cell_type": "code",
   "execution_count": 3,
   "metadata": {
    "collapsed": true
   },
   "outputs": [],
   "source": [
    "class Movie(Video):\n",
    "    def __init__(self, title, storyline, poster_img, trailer_youtube, duration):\n",
    "        Video.__init__(self, title, duration)\n",
    "        self.storyline = storyline\n",
    "        self.poster_image_url = poster_img\n",
    "        self.trailer_youtube_url = trailer_youtube\n",
    "\n",
    "    \n",
    "    def show_trailer(self):\n",
    "        webbrowser.open(self.trailer_youtube_url)"
   ]
  },
  {
   "cell_type": "code",
   "execution_count": 4,
   "metadata": {
    "collapsed": false
   },
   "outputs": [],
   "source": [
    "class tvShow(Video):\n",
    "    def __init__(self, season, episode, station):\n",
    "        Video.__init__(self, title, duration)\n",
    "        self.season = season\n",
    "        self.episode = episode\n",
    "        self.station = station\n",
    "        \n",
    "#    def get_local():"
   ]
  },
  {
   "cell_type": "code",
   "execution_count": 5,
   "metadata": {
    "collapsed": false
   },
   "outputs": [],
   "source": [
    "Rascals = Movie(\"The Little Rascals\",\n",
    "          \"Mischievious youngters seek to earn money in order to rebuild their clubhouse\",\n",
    "           \"https://upload.wikimedia.org/wikipedia/en/6/6f/Little_rascals_ver2.jpg\",\n",
    "           \"https://www.youtube.com/watch?v=qcOB45HMVzE\",\n",
    "          \"null\")\n",
    "\n",
    "Menace = Movie(\"Dennis the Menace\",\n",
    "          \"Mischievious youngters seek to earn money in order to rebuild their clubhouse\",\n",
    "           \"https://upload.wikimedia.org/wikipedia/en/b/b0/Dennis_the_menace.jpg\",\n",
    "           \"https://www.youtube.com/watch?v=63XgkkkEPMo\",\n",
    "           \"null\")\n",
    "\n",
    "IT = Movie(\"IT\",\n",
    "          \"Seven kids from Derry meet a scary clown\",\n",
    "           \"https://upload.wikimedia.org/wikipedia/en/5/5a/It_cover.jpg\",\n",
    "           \"https://www.youtube.com/watch?v=xKJmEC5ieOk\",\n",
    "           \"null\"\n",
    "           )\n",
    "\n",
    "#IT.show_trailer()"
   ]
  },
  {
   "cell_type": "code",
   "execution_count": 6,
   "metadata": {
    "collapsed": true
   },
   "outputs": [],
   "source": [
    "moviez = [Rascals, Menace, IT]\n",
    "fresh_tomatoes.open_movies_page(moviez)"
   ]
  },
  {
   "cell_type": "code",
   "execution_count": null,
   "metadata": {
    "collapsed": true
   },
   "outputs": [],
   "source": []
  },
  {
   "cell_type": "code",
   "execution_count": null,
   "metadata": {
    "collapsed": true
   },
   "outputs": [],
   "source": []
  },
  {
   "cell_type": "code",
   "execution_count": null,
   "metadata": {
    "collapsed": true
   },
   "outputs": [],
   "source": []
  },
  {
   "cell_type": "code",
   "execution_count": null,
   "metadata": {
    "collapsed": true
   },
   "outputs": [],
   "source": []
  },
  {
   "cell_type": "code",
   "execution_count": 54,
   "metadata": {
    "collapsed": true
   },
   "outputs": [],
   "source": [
    "#Can be put in a separate file and be used as a module file   \n",
    "\n",
    "class Movie():\n",
    "    def __init__(self, title, storyline,poster_img,trailer_youtube):\n",
    "        self.title = title\n",
    "        self.storyline = storyline\n",
    "        self.poster_image_url = poster_img\n",
    "        self.trailer_youtube_url = trailer_youtube\n",
    "\n",
    "    \n",
    "    def show_trailer(self):\n",
    "        webbrowser.open(self.trailer_youtube_url)"
   ]
  },
  {
   "cell_type": "code",
   "execution_count": null,
   "metadata": {
    "collapsed": true
   },
   "outputs": [],
   "source": [
    "#Can be put into a separate file that calls the class module through \"import media.py\"\n",
    "#Save this as separate file called \"movies.py\" \n",
    "#toy_story = media.Movie(etc,etc)\n",
    "\n",
    "toy_story = Movie(\"Toy Story\", \n",
    "                 \"A story about a boy and his toys that come to life\",\n",
    "                 \"null\",\n",
    "                 \"null\"\n",
    "                 )\n",
    "\n",
    "print(toy_story.storyline)\n",
    "print(toy_story.title)"
   ]
  },
  {
   "cell_type": "code",
   "execution_count": null,
   "metadata": {
    "collapsed": true
   },
   "outputs": [],
   "source": [
    "avatar = Movie(\"Avatar\",\n",
    "              \"A marine on an alien planet\",\n",
    "              \"null\",\n",
    "              \"null\")\n",
    "\n",
    "print(avatar.storyline)\n",
    "print(avatar.title)"
   ]
  },
  {
   "cell_type": "code",
   "execution_count": 55,
   "metadata": {
    "collapsed": false
   },
   "outputs": [
    {
     "name": "stdout",
     "output_type": "stream",
     "text": [
      "A story about a boy and his toys that come to life\n",
      "Toy Story\n"
     ]
    }
   ],
   "source": []
  },
  {
   "cell_type": "code",
   "execution_count": null,
   "metadata": {
    "collapsed": true
   },
   "outputs": [],
   "source": []
  },
  {
   "cell_type": "code",
   "execution_count": 56,
   "metadata": {
    "collapsed": false
   },
   "outputs": [
    {
     "name": "stdout",
     "output_type": "stream",
     "text": [
      "A marine on an alien planet\n",
      "Avatar\n"
     ]
    }
   ],
   "source": []
  },
  {
   "cell_type": "code",
   "execution_count": 57,
   "metadata": {
    "collapsed": false
   },
   "outputs": [
    {
     "ename": "TypeError",
     "evalue": "__init__() takes 5 positional arguments but 6 were given",
     "output_type": "error",
     "traceback": [
      "\u001b[1;31m---------------------------------------------------------------------------\u001b[0m",
      "\u001b[1;31mTypeError\u001b[0m                                 Traceback (most recent call last)",
      "\u001b[1;32m<ipython-input-57-2e184586784d>\u001b[0m in \u001b[0;36m<module>\u001b[1;34m()\u001b[0m\n\u001b[0;32m      3\u001b[0m            \u001b[1;34m\"https://upload.wikimedia.org/wikipedia/en/6/6f/Little_rascals_ver2.jpg\"\u001b[0m\u001b[1;33m,\u001b[0m\u001b[1;33m\u001b[0m\u001b[0m\n\u001b[0;32m      4\u001b[0m            \u001b[1;34m\"https://www.youtube.com/watch?v=qcOB45HMVzE\"\u001b[0m\u001b[1;33m,\u001b[0m\u001b[1;33m\u001b[0m\u001b[0m\n\u001b[1;32m----> 5\u001b[1;33m           \"null\")\n\u001b[0m\u001b[0;32m      6\u001b[0m \u001b[1;33m\u001b[0m\u001b[0m\n\u001b[0;32m      7\u001b[0m Menace = Movie(\"Dennis the Menace\",\n",
      "\u001b[1;31mTypeError\u001b[0m: __init__() takes 5 positional arguments but 6 were given"
     ]
    }
   ],
   "source": []
  },
  {
   "cell_type": "code",
   "execution_count": 58,
   "metadata": {
    "collapsed": false
   },
   "outputs": [],
   "source": []
  },
  {
   "cell_type": "code",
   "execution_count": null,
   "metadata": {
    "collapsed": true
   },
   "outputs": [],
   "source": [
    "    "
   ]
  }
 ],
 "metadata": {
  "kernelspec": {
   "display_name": "Python 3",
   "language": "python",
   "name": "python3"
  },
  "language_info": {
   "codemirror_mode": {
    "name": "ipython",
    "version": 3
   },
   "file_extension": ".py",
   "mimetype": "text/x-python",
   "name": "python",
   "nbconvert_exporter": "python",
   "pygments_lexer": "ipython3",
   "version": "3.6.3"
  }
 },
 "nbformat": 4,
 "nbformat_minor": 2
}
