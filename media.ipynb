{
 "cells": [
  {
   "cell_type": "code",
   "execution_count": 1,
   "metadata": {
    "collapsed": false
   },
   "outputs": [],
   "source": [
    "import webbrowser\n",
    "import fresh_tomatoes"
   ]
  },
  {
   "cell_type": "code",
   "execution_count": 2,
   "metadata": {
    "collapsed": true
   },
   "outputs": [],
   "source": [
    "class Video():\n",
    "    def __init__(self, title, duration):\n",
    "        self.title = title\n",
    "        self.duration = duration"
   ]
  },
  {
   "cell_type": "code",
   "execution_count": 3,
   "metadata": {
    "collapsed": true
   },
   "outputs": [],
   "source": [
    "class Movie(Video):\n",
    "    def __init__(self, title, storyline, poster_img, trailer_youtube, duration):\n",
    "        Video.__init__(self, title, duration)\n",
    "        self.storyline = storyline\n",
    "        self.poster_image_url = poster_img\n",
    "        self.trailer_youtube_url = trailer_youtube\n",
    "\n",
    "    \n",
    "    def show_trailer(self):\n",
    "        webbrowser.open(self.trailer_youtube_url)"
   ]
  },
  {
   "cell_type": "code",
   "execution_count": 4,
   "metadata": {
    "collapsed": false
   },
   "outputs": [],
   "source": [
    "class tvShow(Video):\n",
    "    def __init__(self, season, episode, station):\n",
    "        Video.__init__(self, title, duration)\n",
    "        self.season = season\n",
    "        self.episode = episode\n",
    "        self.station = station\n",
    "        \n",
    "#    def get_local():"
   ]
  },
  {
   "cell_type": "code",
   "execution_count": 5,
   "metadata": {
    "collapsed": false
   },
   "outputs": [],
   "source": [
    "Rascals = Movie(\"The Little Rascals\",\n",
    "          \"Mischievious youngters seek to earn money in order to rebuild their clubhouse\",\n",
    "           \"https://upload.wikimedia.org/wikipedia/en/6/6f/Little_rascals_ver2.jpg\",\n",
    "           \"https://www.youtube.com/watch?v=qcOB45HMVzE\",\n",
    "          \"null\")\n",
    "\n",
    "Menace = Movie(\"Dennis the Menace\",\n",
    "          \"Mischievious youngters seek to earn money in order to rebuild their clubhouse\",\n",
    "           \"https://upload.wikimedia.org/wikipedia/en/b/b0/Dennis_the_menace.jpg\",\n",
    "           \"https://www.youtube.com/watch?v=63XgkkkEPMo\",\n",
    "           \"null\")\n",
    "\n",
    "IT = Movie(\"IT\",\n",
    "          \"Seven kids from Derry meet a scary clown\",\n",
    "           \"https://upload.wikimedia.org/wikipedia/en/5/5a/It_cover.jpg\",\n",
    "           \"https://www.youtube.com/watch?v=xKJmEC5ieOk\",\n",
    "           \"null\"\n",
    "           )\n",
    "\n",
    "#IT.show_trailer()"
   ]
  },
  {
   "cell_type": "code",
   "execution_count": 6,
   "metadata": {
    "collapsed": true
   },
   "outputs": [],
   "source": [
    "moviez = [Rascals, Menace, IT]\n",
    "fresh_tomatoes.open_movies_page(moviez)"
   ]
  },
  {
   "cell_type": "code",
   "execution_count": null,
   "metadata": {
    "collapsed": true
   },
   "outputs": [],
   "source": []
  },
  {
   "cell_type": "code",
   "execution_count": null,
   "metadata": {
    "collapsed": true
   },
   "outputs": [],
   "source": []
  },
  {
   "cell_type": "code",
   "execution_count": null,
   "metadata": {
    "collapsed": true
   },
   "outputs": [],
   "source": []
  },
  {
   "cell_type": "code",
   "execution_count": null,
   "metadata": {
    "collapsed": true
   },
   "outputs": [],
   "source": [
    "    "
   ]
  }
 ],
 "metadata": {
  "kernelspec": {
   "display_name": "Python 3",
   "language": "python",
   "name": "python3"
  },
  "language_info": {
   "codemirror_mode": {
    "name": "ipython",
    "version": 3
   },
   "file_extension": ".py",
   "mimetype": "text/x-python",
   "name": "python",
   "nbconvert_exporter": "python",
   "pygments_lexer": "ipython3",
   "version": "3.6.3"
  }
 },
 "nbformat": 4,
 "nbformat_minor": 2
}
